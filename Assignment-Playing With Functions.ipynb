{
 "cells": [
  {
   "cell_type": "code",
   "execution_count": 1,
   "metadata": {},
   "outputs": [
    {
     "name": "stdout",
     "output_type": "stream",
     "text": [
      " Please Enter the radius of a circle: 4\n",
      " \n",
      "Diameter Of a Circle = 8.00\n",
      " Circumference Of a Circle = 25.13\n",
      " Area Of a Circle = 50.27\n"
     ]
    }
   ],
   "source": [
    "PI = 3.1416\n",
    "radius = float(input(' Please Enter the radius of a circle: '))\n",
    "\n",
    "diameter = 2 * radius\n",
    "circumference = 2 * PI * radius\n",
    "area = PI * radius * radius\n",
    "\n",
    "print(\" \\nDiameter Of a Circle = %.2f\" %diameter)\n",
    "print(\" Circumference Of a Circle = %.2f\" %circumference)\n",
    "print(\" Area Of a Circle = %.2f\" %area)"
   ]
  },
  {
   "cell_type": "code",
   "execution_count": 7,
   "metadata": {},
   "outputs": [
    {
     "name": "stdout",
     "output_type": "stream",
     "text": [
      "Enter a string : hello\n",
      "reverse string : olleh\n"
     ]
    }
   ],
   "source": [
    "if __name__ == \"__main__\" :\n",
    "\n",
    "    string = input('Enter a string : ')\n",
    "\n",
    "\n",
    "    rev_string = string[::-1]\n",
    "\n",
    "    print(\"reverse string :\",rev_string)"
   ]
  },
  {
   "cell_type": "code",
   "execution_count": 23,
   "metadata": {},
   "outputs": [
    {
     "name": "stdout",
     "output_type": "stream",
     "text": [
      "2640\n"
     ]
    }
   ],
   "source": [
    "sumSquares = 0\n",
    "sum = 0\n",
    "    \n",
    "for i in range (1,11):\n",
    "    sum += i\n",
    "    sumSquares += i**2\n",
    "\n",
    "difference = sum**2 - sumSquares\n",
    "print (difference)"
   ]
  },
  {
   "cell_type": "code",
   "execution_count": 2,
   "metadata": {},
   "outputs": [
    {
     "name": "stdout",
     "output_type": "stream",
     "text": [
      "Please enter php amount between 0-99:69\n",
      "0 1 peso\n",
      "2 25 cent/s\n",
      "1 10 cent/s\n",
      "1 5 cent/s\n",
      "4 1 cent/s\n"
     ]
    }
   ],
   "source": [
    "c=int(input('Please enter php amount between 0-99:'))\n",
    "print(c//100, \"1 peso\")\n",
    "c = c%100\n",
    "print(c//25, \"25 cent/s\")\n",
    "c = c%25\n",
    "print(c//10, \"10 cent/s\")\n",
    "c = c%10\n",
    "print(c//5, \"5 cent/s\")\n",
    "c = c%5\n",
    "print(c//1, \"1 cent/s\")"
   ]
  },
  {
   "cell_type": "code",
   "execution_count": 1,
   "metadata": {},
   "outputs": [
    {
     "name": "stdout",
     "output_type": "stream",
     "text": [
      "Enter a positive integer: 5\n",
      "The sum of the first 5 positive integers 15.0\n"
     ]
    }
   ],
   "source": [
    "n = int(input(\"Enter a positive integer: \"))\n",
    " \n",
    "total = n * (n+1) / 2\n",
    " \n",
    "print(\"The sum of the first\",n,\"positive integers\",total)"
   ]
  },
  {
   "cell_type": "code",
   "execution_count": null,
   "metadata": {},
   "outputs": [],
   "source": []
  }
 ],
 "metadata": {
  "kernelspec": {
   "display_name": "Python 3",
   "language": "python",
   "name": "python3"
  },
  "language_info": {
   "codemirror_mode": {
    "name": "ipython",
    "version": 3
   },
   "file_extension": ".py",
   "mimetype": "text/x-python",
   "name": "python",
   "nbconvert_exporter": "python",
   "pygments_lexer": "ipython3",
   "version": "3.8.3"
  }
 },
 "nbformat": 4,
 "nbformat_minor": 4
}
